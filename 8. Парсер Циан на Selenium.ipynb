{
 "cells": [
  {
   "cell_type": "code",
   "execution_count": 2,
   "id": "e413324e-1db4-42c1-8dd2-824d6f5a6fa0",
   "metadata": {
    "tags": []
   },
   "outputs": [],
   "source": [
    "import time\n",
    "import random\n",
    "from selenium import webdriver\n",
    "from selenium.webdriver.common.by import By\n",
    "from selenium.common.exceptions import NoSuchElementException \n",
    "from selenium.common.exceptions import WebDriverException\n",
    "from selenium.common.exceptions import ElementClickInterceptedException\n",
    "from selenium.common.exceptions import StaleElementReferenceException\n",
    "from selenium.common.exceptions import TimeoutException\n",
    "import pandas as pd\n",
    "# install geckodriver"
   ]
  },
  {
   "cell_type": "code",
   "execution_count": 8,
   "id": "c2f92ab7",
   "metadata": {},
   "outputs": [
    {
     "name": "stdout",
     "output_type": "stream",
     "text": [
      "50 1 1 1 1 1 1 1 1 1 1 1 1 1 1 1 1 1 1 1 1 1 1 51 1 1 1 1 1 1 1 от 1 1 1 1 1 от 1 1 1 1 1 1 1 52 1 1 1 1 1 1 1 1 1 1 от 1 от 1 1 1 1 1 1 1 1 1 53 1 1 1 1 1 1 1 1 1 1 1 1 1 1 1 месяц, 1 1 1 1 1 1 54 1 1 1 1 1 1 1 от 1 1 1 1 1 1 1 1 1 1 1 1 1 55 56 1 1 1 1 1 1 1 1 1 1 1 1 1 1 1 1 1 1 1 1 1 1 57 1 1 1 1 1 1 1 1 1 1 1 1 1 1 1 1 1 1 1 1 1 1 58 1 1 1 1 1 1 1 1 1 1 1 1 1 1 1 1 1 1 1 1 1 1 59 1 1 1 1 1 1 1 1 1 1 1 1 1 1 1 1 1 1 1 1 1 60 1 1 1 1 1 1 1 1 1 1 1 1 1 1 1 1 1 1 1 1 1 61 1 1 1 1 1 1 1 1 1 1 1 1 1 1 1 1 1 1 1 1 1 1 62 1 1 1 1 1 1 1 1 1 1 1 1 1 1 1 1 1 1 1 1 1 63 1 1 1 1 1 1 1 1 1 1 1 1 1 1 1 1 1 1 1 1 1 64 1 1 1 1 1 1 1 1 1 1 1 1 1 1 1 1 1 1 1 1 1 1 65 1 1 1 1 1 1 1 1 1 1 1 1 1 1 1 1 1 1 1 1 1 1 66 1 1 1 1 1 1 1 1 1 1 1 1 1 1 1 1 1 1 1 1 1 67 1 1 1 1 1 1 1 1 1 1 1 1 1 1 1 1 1 1 1 1 1 68 1 1 1 1 1 1 1 1 1 1 1 1 1 1 1 1 1 1 1 1 1 69 1 1 1 1 1 1 1 1 1 1 1 1 1 1 1 1 1 1 1 1 1 70 1 1 1 1 1 1 1 1 1 1 1 1 1 1 1 1 1 1 1 1 1 1 71 1 1 1 1 1 1 1 1 1 1 1 1 1 1 1 1 1 1 1 1 1 1 72 1 1 1 1 1 1 1 1 1 1 1 1 1 1 1 1 1 1 1 1 1 73 1 1 1 1 1 1 1 1 1 1 1 1 1 1 1 1 1 1 1 1 1 1 74 1 1 1 1 1 1 1 1 1 1 1 1 1 1 1 1 1 1 1 1 1 1 75 1 1 1 1 1 1 1 1 1 1 1 1 1 1 1 1 1 1 1 1 76 1 1 1 1 1 1 1 1 1 1 1 1 1 1 1 1 1 1 1 1 1 1 77 1 1 1 1 1 1 1 1 1 1 1 1 1 1 1 1 1 1 1 1 1 1 78 1 1 1 1 1 1 1 1 1 1 1 1 1 1 1 1 1 1 1 1 1 1 79 1 1 1 1 1 1 1 1 1 1 1 1 1 1 1 1 1 1 1 1 1 1 80 1 1 1 1 1 1 1 1 1 1 1 1 1 1 1 1 1 1 1 1 1 1 81 1 1 1 1 1 1 1 1 1 1 1 1 1 1 1 1 1 1 1 1 1 1 82 1 1 1 1 1 1 1 1 1 1 1 1 1 1 1 1 1 1 1 1 1 83 1 1 1 1 1 1 1 1 1 1 1 1 1 1 1 1 1 1 1 1 1 84 1 1 1 1 1 1 от 1 1 1 1 1 1 1 1 1 1 1 85 1 1 1 1 1 1 1 1 1 1 1 1 1 1 1 1 1 1 1 1 1 1 86 1 1 1 1 1 1 1 1 1 1 1 1 1 1 1 1 1 1 1 1 1 1 87 1 1 1 1 1 1 1 1 1 1 1 1 1 1 1 1 1 1 1 1 1 1 88 1 1 1 1 1 1 1 1 1 1 1 1 1 1 1 1 1 1 1 1 1 1 89 1 1 1 1 1 1 1 1 1 1 1 1 1 1 1 1 1 1 1 1 1 90 1 1 1 1 1 1 1 1 1 1 1 1 1 1 1 1 1 1 1 1 1 1 91 1 1 1 1 1 1 1 1 1 1 1 1 1 1 1 1 1 1 1 1 1 1 92 1 1 1 1 1 1 1 1 1 1 1 1 1 1 1 1 1 1 1 1 1 1 93 1 1 1 1 1 1 1 1 1 1 1 1 1 1 1 1 1 1 1 1 1 1 94 1 1 1 1 1 1 1 1 1 1 1 1 1 1 1 1 1 1 1 1 1 1 95 1 1 1 1 1 1 1 1 1 1 1 1 1 1 1 1 1 1 1 1 1 1 96 1 1 1 1 1 1 1 1 1 1 1 1 1 1 1 1 1 1 1 1 1 1 97 1 1 1 1 1 1 1 1 1 1 1 1 1 1 1 1 1 1 1 1 1 1 98 1 1 1 1 1 1 от 1 1 1 1 1 1 1 1 1 1 1 99 1 1 1 1 1 1 1 1 1 1 1 1 1 1 1 1 1 1 1 1 1 1 "
     ]
    }
   ],
   "source": [
    "for i in range(50, 100):\n",
    "    print(i, end=' ')\n",
    "    driver = webdriver.Firefox()\n",
    "\n",
    "    driver.get(f'https://www.cian.ru/cat.php?deal_type=rent&engine_version=2&offer_type=flat&p={i}&region=1&room1=1&type=4')\n",
    "    elmts = driver.find_elements(By.XPATH, '//a[@class=\"_93444fe79c--link--eoxce\"]')\n",
    "    ur = [a.get_attribute('href') for a in elmts][::2]\n",
    "    for u in ur:\n",
    "        #driver.refresh()\n",
    "\n",
    "        try:\n",
    "            driver.get(u)\n",
    "            driver.refresh()\n",
    "        except TimeoutException:\n",
    "            continue\n",
    "        # TimeoutException:\n",
    "        infs = driver.find_elements(By.XPATH, '//div[@class=\"a10a3f92e9--info-value--bm3DC\"]')\n",
    "        if not infs:\n",
    "            infs = driver.find_elements(By.XPATH, '//span[@class=\"a10a3f92e9--color_black_100--kPHhJ a10a3f92e9--lineHeight_6u--A1GMI a10a3f92e9--fontWeight_bold--ePDnv a10a3f92e9--fontSize_16px--RB9YW a10a3f92e9--display_block--pDAEx a10a3f92e9--text--g9xAG\"]')\n",
    "\n",
    "        if len(infs) != 5:\n",
    "            continue\n",
    "        name = driver.find_element(By.XPATH, '//h1[@class=\"a10a3f92e9--title--UEAG3\"]').text\n",
    "        all_sqr = infs[0].text[:2]\n",
    "        live_sqr = infs[1].text[:2]\n",
    "        kitch = infs[2].text[:2]\n",
    "        floor = infs[3].text[:2]\n",
    "        year = infs[4].text\n",
    "        #except (NoSuchElementException, WebDriverException, IndexError):\n",
    "\n",
    "        try:\n",
    "            price = driver.find_element(By.XPATH, '/html/body/div[2]/div[2]/div[3]/div/div[1]/div[1]/div[1]/div[3]/div/div[1]/span')\n",
    "        except (NoSuchElementException, WebDriverException):\n",
    "            price = driver.find_element(By.XPATH, '//span[@itemprop=\"price\"]')\n",
    "\n",
    "        price = price.text[:-6]\n",
    "        other = driver.find_element(By.XPATH, '//p[@class=\"a10a3f92e9--description--CPyUa\"]')\n",
    "        pledge = ' '.join(other.text.split()[1:3])\n",
    "        comis = other.text.split()[5][:-2]\n",
    "        prepayment = other.text.split()[8]\n",
    "        looks = driver.find_element(By.XPATH, '/html/body/div[2]/main/div[1]/div[2]/div[1]/div[2]/a').text[:3]\n",
    "\n",
    "        data_tmp = pd.DataFrame({\"Name\" : name, \"Price\" : price, \"all_sqr\" : all_sqr, \\\n",
    "                         \"live_sqr\" : live_sqr, \"kitch\" : kitch, \\\n",
    "                         \"floor\" : floor, \"year\" : year, \"pledge\" : pledge, \\\n",
    "                        \"comis\" : comis, \"looks\" : looks, \"prepayment\" : prepayment}, index=[0])\n",
    "        print(prepayment, end=' ')\n",
    "        with open('cian.csv', 'a') as f:\n",
    "            data_tmp.to_csv(f, header=False, index=False)\n",
    "        #df = pd.concat([df, data_tmp], axis=0, ignore_index=True)\n",
    "\n",
    "    # баннер\n",
    "    try: \n",
    "        hel = driver.find_element(By.XPATH, '//svg[@class=\"uxs-1XScX4Igns uxs-1vco3s9\"]')\n",
    "        hel.click()\n",
    "    except NoSuchElementException:\n",
    "        pass\n",
    "\n",
    "    driver.quit()"
   ]
  }
 ],
 "metadata": {
  "celltoolbar": "Raw Cell Format",
  "kernelspec": {
   "display_name": "Python 3 (ipykernel)",
   "language": "python",
   "name": "python3"
  },
  "language_info": {
   "codemirror_mode": {
    "name": "ipython",
    "version": 3
   },
   "file_extension": ".py",
   "mimetype": "text/x-python",
   "name": "python",
   "nbconvert_exporter": "python",
   "pygments_lexer": "ipython3",
   "version": "3.11.2"
  }
 },
 "nbformat": 4,
 "nbformat_minor": 5
}

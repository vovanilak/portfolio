{
  "nbformat": 4,
  "nbformat_minor": 0,
  "metadata": {
    "colab": {
      "provenance": []
    },
    "kernelspec": {
      "name": "python3",
      "display_name": "Python 3"
    },
    "language_info": {
      "name": "python"
    }
  },
  "cells": [
    {
      "cell_type": "code",
      "execution_count": 1,
      "metadata": {
        "id": "gNMNMB72fOsE"
      },
      "outputs": [],
      "source": [
        "import pandas as pd\n",
        "import numpy as np\n"
      ]
    },
    {
      "cell_type": "code",
      "source": [
        "rooms = pd.read_csv('cian.csv')\n",
        "rooms.sample(10)\n"
      ],
      "metadata": {
        "colab": {
          "base_uri": "https://localhost:8080/",
          "height": 363
        },
        "id": "mOjpcJlsfUy1",
        "outputId": "f6116e31-37d5-436d-a392-04c34f22f480"
      },
      "execution_count": 2,
      "outputs": [
        {
          "output_type": "execute_result",
          "data": {
            "text/plain": [
              "                         Name    Price  all_sqr live_sqr kitch  floor  year  \\\n",
              "432   1-комн. квартира, 40 м²  40 000        40       20    10     23  2019   \n",
              "1799  1-комн. квартира, 38 м²  80 000        38       22    9       2  1968   \n",
              "591   1-комн. квартира, 46 м²  45 000        46       18    12      7  2018   \n",
              "390   1-комн. квартира, 38 м²  37 000        38       19    6       4  1960   \n",
              "743   1-комн. квартира, 42 м²  95 000        42       26    10      5  2021   \n",
              "1648  1-комн. квартира, 38 м²  50 000        38       20    9       3  1988   \n",
              "1700  1-комн. квартира, 31 м²  60 000        31       15    6       2  2020   \n",
              "635   1-комн. квартира, 27 м²  50 000        27       12    10     14  2019   \n",
              "1196  1-комн. квартира, 38 м²  80 000        38       22    9       2  1968   \n",
              "1708  1-комн. квартира, 35 м²  43 000        35       18    8       1  1960   \n",
              "\n",
              "      pledge    comis looks prepayment  \n",
              "432   40 000       50   361          1  \n",
              "1799  80 000  комисси   121          1  \n",
              "591   45 000       25   621          1  \n",
              "390   37 000       70   1 0          1  \n",
              "743   95 000       30   43           1  \n",
              "1648  50 000  комисси   5 3          1  \n",
              "1700  60 000  комисси   521          1  \n",
              "635   55 000       50   655          1  \n",
              "1196  80 000  комисси   94           1  \n",
              "1708  43 000       50   79           1  "
            ],
            "text/html": [
              "\n",
              "  <div id=\"df-6a8bf6c4-c12e-4678-a844-0022029a2483\" class=\"colab-df-container\">\n",
              "    <div>\n",
              "<style scoped>\n",
              "    .dataframe tbody tr th:only-of-type {\n",
              "        vertical-align: middle;\n",
              "    }\n",
              "\n",
              "    .dataframe tbody tr th {\n",
              "        vertical-align: top;\n",
              "    }\n",
              "\n",
              "    .dataframe thead th {\n",
              "        text-align: right;\n",
              "    }\n",
              "</style>\n",
              "<table border=\"1\" class=\"dataframe\">\n",
              "  <thead>\n",
              "    <tr style=\"text-align: right;\">\n",
              "      <th></th>\n",
              "      <th>Name</th>\n",
              "      <th>Price</th>\n",
              "      <th>all_sqr</th>\n",
              "      <th>live_sqr</th>\n",
              "      <th>kitch</th>\n",
              "      <th>floor</th>\n",
              "      <th>year</th>\n",
              "      <th>pledge</th>\n",
              "      <th>comis</th>\n",
              "      <th>looks</th>\n",
              "      <th>prepayment</th>\n",
              "    </tr>\n",
              "  </thead>\n",
              "  <tbody>\n",
              "    <tr>\n",
              "      <th>432</th>\n",
              "      <td>1-комн. квартира, 40 м²</td>\n",
              "      <td>40 000</td>\n",
              "      <td>40</td>\n",
              "      <td>20</td>\n",
              "      <td>10</td>\n",
              "      <td>23</td>\n",
              "      <td>2019</td>\n",
              "      <td>40 000</td>\n",
              "      <td>50</td>\n",
              "      <td>361</td>\n",
              "      <td>1</td>\n",
              "    </tr>\n",
              "    <tr>\n",
              "      <th>1799</th>\n",
              "      <td>1-комн. квартира, 38 м²</td>\n",
              "      <td>80 000</td>\n",
              "      <td>38</td>\n",
              "      <td>22</td>\n",
              "      <td>9</td>\n",
              "      <td>2</td>\n",
              "      <td>1968</td>\n",
              "      <td>80 000</td>\n",
              "      <td>комисси</td>\n",
              "      <td>121</td>\n",
              "      <td>1</td>\n",
              "    </tr>\n",
              "    <tr>\n",
              "      <th>591</th>\n",
              "      <td>1-комн. квартира, 46 м²</td>\n",
              "      <td>45 000</td>\n",
              "      <td>46</td>\n",
              "      <td>18</td>\n",
              "      <td>12</td>\n",
              "      <td>7</td>\n",
              "      <td>2018</td>\n",
              "      <td>45 000</td>\n",
              "      <td>25</td>\n",
              "      <td>621</td>\n",
              "      <td>1</td>\n",
              "    </tr>\n",
              "    <tr>\n",
              "      <th>390</th>\n",
              "      <td>1-комн. квартира, 38 м²</td>\n",
              "      <td>37 000</td>\n",
              "      <td>38</td>\n",
              "      <td>19</td>\n",
              "      <td>6</td>\n",
              "      <td>4</td>\n",
              "      <td>1960</td>\n",
              "      <td>37 000</td>\n",
              "      <td>70</td>\n",
              "      <td>1 0</td>\n",
              "      <td>1</td>\n",
              "    </tr>\n",
              "    <tr>\n",
              "      <th>743</th>\n",
              "      <td>1-комн. квартира, 42 м²</td>\n",
              "      <td>95 000</td>\n",
              "      <td>42</td>\n",
              "      <td>26</td>\n",
              "      <td>10</td>\n",
              "      <td>5</td>\n",
              "      <td>2021</td>\n",
              "      <td>95 000</td>\n",
              "      <td>30</td>\n",
              "      <td>43</td>\n",
              "      <td>1</td>\n",
              "    </tr>\n",
              "    <tr>\n",
              "      <th>1648</th>\n",
              "      <td>1-комн. квартира, 38 м²</td>\n",
              "      <td>50 000</td>\n",
              "      <td>38</td>\n",
              "      <td>20</td>\n",
              "      <td>9</td>\n",
              "      <td>3</td>\n",
              "      <td>1988</td>\n",
              "      <td>50 000</td>\n",
              "      <td>комисси</td>\n",
              "      <td>5 3</td>\n",
              "      <td>1</td>\n",
              "    </tr>\n",
              "    <tr>\n",
              "      <th>1700</th>\n",
              "      <td>1-комн. квартира, 31 м²</td>\n",
              "      <td>60 000</td>\n",
              "      <td>31</td>\n",
              "      <td>15</td>\n",
              "      <td>6</td>\n",
              "      <td>2</td>\n",
              "      <td>2020</td>\n",
              "      <td>60 000</td>\n",
              "      <td>комисси</td>\n",
              "      <td>521</td>\n",
              "      <td>1</td>\n",
              "    </tr>\n",
              "    <tr>\n",
              "      <th>635</th>\n",
              "      <td>1-комн. квартира, 27 м²</td>\n",
              "      <td>50 000</td>\n",
              "      <td>27</td>\n",
              "      <td>12</td>\n",
              "      <td>10</td>\n",
              "      <td>14</td>\n",
              "      <td>2019</td>\n",
              "      <td>55 000</td>\n",
              "      <td>50</td>\n",
              "      <td>655</td>\n",
              "      <td>1</td>\n",
              "    </tr>\n",
              "    <tr>\n",
              "      <th>1196</th>\n",
              "      <td>1-комн. квартира, 38 м²</td>\n",
              "      <td>80 000</td>\n",
              "      <td>38</td>\n",
              "      <td>22</td>\n",
              "      <td>9</td>\n",
              "      <td>2</td>\n",
              "      <td>1968</td>\n",
              "      <td>80 000</td>\n",
              "      <td>комисси</td>\n",
              "      <td>94</td>\n",
              "      <td>1</td>\n",
              "    </tr>\n",
              "    <tr>\n",
              "      <th>1708</th>\n",
              "      <td>1-комн. квартира, 35 м²</td>\n",
              "      <td>43 000</td>\n",
              "      <td>35</td>\n",
              "      <td>18</td>\n",
              "      <td>8</td>\n",
              "      <td>1</td>\n",
              "      <td>1960</td>\n",
              "      <td>43 000</td>\n",
              "      <td>50</td>\n",
              "      <td>79</td>\n",
              "      <td>1</td>\n",
              "    </tr>\n",
              "  </tbody>\n",
              "</table>\n",
              "</div>\n",
              "    <div class=\"colab-df-buttons\">\n",
              "\n",
              "  <div class=\"colab-df-container\">\n",
              "    <button class=\"colab-df-convert\" onclick=\"convertToInteractive('df-6a8bf6c4-c12e-4678-a844-0022029a2483')\"\n",
              "            title=\"Convert this dataframe to an interactive table.\"\n",
              "            style=\"display:none;\">\n",
              "\n",
              "  <svg xmlns=\"http://www.w3.org/2000/svg\" height=\"24px\" viewBox=\"0 -960 960 960\">\n",
              "    <path d=\"M120-120v-720h720v720H120Zm60-500h600v-160H180v160Zm220 220h160v-160H400v160Zm0 220h160v-160H400v160ZM180-400h160v-160H180v160Zm440 0h160v-160H620v160ZM180-180h160v-160H180v160Zm440 0h160v-160H620v160Z\"/>\n",
              "  </svg>\n",
              "    </button>\n",
              "\n",
              "  <style>\n",
              "    .colab-df-container {\n",
              "      display:flex;\n",
              "      gap: 12px;\n",
              "    }\n",
              "\n",
              "    .colab-df-convert {\n",
              "      background-color: #E8F0FE;\n",
              "      border: none;\n",
              "      border-radius: 50%;\n",
              "      cursor: pointer;\n",
              "      display: none;\n",
              "      fill: #1967D2;\n",
              "      height: 32px;\n",
              "      padding: 0 0 0 0;\n",
              "      width: 32px;\n",
              "    }\n",
              "\n",
              "    .colab-df-convert:hover {\n",
              "      background-color: #E2EBFA;\n",
              "      box-shadow: 0px 1px 2px rgba(60, 64, 67, 0.3), 0px 1px 3px 1px rgba(60, 64, 67, 0.15);\n",
              "      fill: #174EA6;\n",
              "    }\n",
              "\n",
              "    .colab-df-buttons div {\n",
              "      margin-bottom: 4px;\n",
              "    }\n",
              "\n",
              "    [theme=dark] .colab-df-convert {\n",
              "      background-color: #3B4455;\n",
              "      fill: #D2E3FC;\n",
              "    }\n",
              "\n",
              "    [theme=dark] .colab-df-convert:hover {\n",
              "      background-color: #434B5C;\n",
              "      box-shadow: 0px 1px 3px 1px rgba(0, 0, 0, 0.15);\n",
              "      filter: drop-shadow(0px 1px 2px rgba(0, 0, 0, 0.3));\n",
              "      fill: #FFFFFF;\n",
              "    }\n",
              "  </style>\n",
              "\n",
              "    <script>\n",
              "      const buttonEl =\n",
              "        document.querySelector('#df-6a8bf6c4-c12e-4678-a844-0022029a2483 button.colab-df-convert');\n",
              "      buttonEl.style.display =\n",
              "        google.colab.kernel.accessAllowed ? 'block' : 'none';\n",
              "\n",
              "      async function convertToInteractive(key) {\n",
              "        const element = document.querySelector('#df-6a8bf6c4-c12e-4678-a844-0022029a2483');\n",
              "        const dataTable =\n",
              "          await google.colab.kernel.invokeFunction('convertToInteractive',\n",
              "                                                    [key], {});\n",
              "        if (!dataTable) return;\n",
              "\n",
              "        const docLinkHtml = 'Like what you see? Visit the ' +\n",
              "          '<a target=\"_blank\" href=https://colab.research.google.com/notebooks/data_table.ipynb>data table notebook</a>'\n",
              "          + ' to learn more about interactive tables.';\n",
              "        element.innerHTML = '';\n",
              "        dataTable['output_type'] = 'display_data';\n",
              "        await google.colab.output.renderOutput(dataTable, element);\n",
              "        const docLink = document.createElement('div');\n",
              "        docLink.innerHTML = docLinkHtml;\n",
              "        element.appendChild(docLink);\n",
              "      }\n",
              "    </script>\n",
              "  </div>\n",
              "\n",
              "\n",
              "<div id=\"df-5d9fcee6-6bb8-42ba-8d1f-76be9a6feb01\">\n",
              "  <button class=\"colab-df-quickchart\" onclick=\"quickchart('df-5d9fcee6-6bb8-42ba-8d1f-76be9a6feb01')\"\n",
              "            title=\"Suggest charts\"\n",
              "            style=\"display:none;\">\n",
              "\n",
              "<svg xmlns=\"http://www.w3.org/2000/svg\" height=\"24px\"viewBox=\"0 0 24 24\"\n",
              "     width=\"24px\">\n",
              "    <g>\n",
              "        <path d=\"M19 3H5c-1.1 0-2 .9-2 2v14c0 1.1.9 2 2 2h14c1.1 0 2-.9 2-2V5c0-1.1-.9-2-2-2zM9 17H7v-7h2v7zm4 0h-2V7h2v10zm4 0h-2v-4h2v4z\"/>\n",
              "    </g>\n",
              "</svg>\n",
              "  </button>\n",
              "\n",
              "<style>\n",
              "  .colab-df-quickchart {\n",
              "      --bg-color: #E8F0FE;\n",
              "      --fill-color: #1967D2;\n",
              "      --hover-bg-color: #E2EBFA;\n",
              "      --hover-fill-color: #174EA6;\n",
              "      --disabled-fill-color: #AAA;\n",
              "      --disabled-bg-color: #DDD;\n",
              "  }\n",
              "\n",
              "  [theme=dark] .colab-df-quickchart {\n",
              "      --bg-color: #3B4455;\n",
              "      --fill-color: #D2E3FC;\n",
              "      --hover-bg-color: #434B5C;\n",
              "      --hover-fill-color: #FFFFFF;\n",
              "      --disabled-bg-color: #3B4455;\n",
              "      --disabled-fill-color: #666;\n",
              "  }\n",
              "\n",
              "  .colab-df-quickchart {\n",
              "    background-color: var(--bg-color);\n",
              "    border: none;\n",
              "    border-radius: 50%;\n",
              "    cursor: pointer;\n",
              "    display: none;\n",
              "    fill: var(--fill-color);\n",
              "    height: 32px;\n",
              "    padding: 0;\n",
              "    width: 32px;\n",
              "  }\n",
              "\n",
              "  .colab-df-quickchart:hover {\n",
              "    background-color: var(--hover-bg-color);\n",
              "    box-shadow: 0 1px 2px rgba(60, 64, 67, 0.3), 0 1px 3px 1px rgba(60, 64, 67, 0.15);\n",
              "    fill: var(--button-hover-fill-color);\n",
              "  }\n",
              "\n",
              "  .colab-df-quickchart-complete:disabled,\n",
              "  .colab-df-quickchart-complete:disabled:hover {\n",
              "    background-color: var(--disabled-bg-color);\n",
              "    fill: var(--disabled-fill-color);\n",
              "    box-shadow: none;\n",
              "  }\n",
              "\n",
              "  .colab-df-spinner {\n",
              "    border: 2px solid var(--fill-color);\n",
              "    border-color: transparent;\n",
              "    border-bottom-color: var(--fill-color);\n",
              "    animation:\n",
              "      spin 1s steps(1) infinite;\n",
              "  }\n",
              "\n",
              "  @keyframes spin {\n",
              "    0% {\n",
              "      border-color: transparent;\n",
              "      border-bottom-color: var(--fill-color);\n",
              "      border-left-color: var(--fill-color);\n",
              "    }\n",
              "    20% {\n",
              "      border-color: transparent;\n",
              "      border-left-color: var(--fill-color);\n",
              "      border-top-color: var(--fill-color);\n",
              "    }\n",
              "    30% {\n",
              "      border-color: transparent;\n",
              "      border-left-color: var(--fill-color);\n",
              "      border-top-color: var(--fill-color);\n",
              "      border-right-color: var(--fill-color);\n",
              "    }\n",
              "    40% {\n",
              "      border-color: transparent;\n",
              "      border-right-color: var(--fill-color);\n",
              "      border-top-color: var(--fill-color);\n",
              "    }\n",
              "    60% {\n",
              "      border-color: transparent;\n",
              "      border-right-color: var(--fill-color);\n",
              "    }\n",
              "    80% {\n",
              "      border-color: transparent;\n",
              "      border-right-color: var(--fill-color);\n",
              "      border-bottom-color: var(--fill-color);\n",
              "    }\n",
              "    90% {\n",
              "      border-color: transparent;\n",
              "      border-bottom-color: var(--fill-color);\n",
              "    }\n",
              "  }\n",
              "</style>\n",
              "\n",
              "  <script>\n",
              "    async function quickchart(key) {\n",
              "      const quickchartButtonEl =\n",
              "        document.querySelector('#' + key + ' button');\n",
              "      quickchartButtonEl.disabled = true;  // To prevent multiple clicks.\n",
              "      quickchartButtonEl.classList.add('colab-df-spinner');\n",
              "      try {\n",
              "        const charts = await google.colab.kernel.invokeFunction(\n",
              "            'suggestCharts', [key], {});\n",
              "      } catch (error) {\n",
              "        console.error('Error during call to suggestCharts:', error);\n",
              "      }\n",
              "      quickchartButtonEl.classList.remove('colab-df-spinner');\n",
              "      quickchartButtonEl.classList.add('colab-df-quickchart-complete');\n",
              "    }\n",
              "    (() => {\n",
              "      let quickchartButtonEl =\n",
              "        document.querySelector('#df-5d9fcee6-6bb8-42ba-8d1f-76be9a6feb01 button');\n",
              "      quickchartButtonEl.style.display =\n",
              "        google.colab.kernel.accessAllowed ? 'block' : 'none';\n",
              "    })();\n",
              "  </script>\n",
              "</div>\n",
              "    </div>\n",
              "  </div>\n"
            ],
            "application/vnd.google.colaboratory.intrinsic+json": {
              "type": "dataframe",
              "summary": "{\n  \"name\": \"rooms\",\n  \"rows\": 10,\n  \"fields\": [\n    {\n      \"column\": \"Name\",\n      \"properties\": {\n        \"dtype\": \"string\",\n        \"num_unique_values\": 7,\n        \"samples\": [\n          \"1-\\u043a\\u043e\\u043c\\u043d. \\u043a\\u0432\\u0430\\u0440\\u0442\\u0438\\u0440\\u0430, 40 \\u043c\\u00b2\",\n          \"1-\\u043a\\u043e\\u043c\\u043d. \\u043a\\u0432\\u0430\\u0440\\u0442\\u0438\\u0440\\u0430, 38 \\u043c\\u00b2\",\n          \"1-\\u043a\\u043e\\u043c\\u043d. \\u043a\\u0432\\u0430\\u0440\\u0442\\u0438\\u0440\\u0430, 27 \\u043c\\u00b2\"\n        ],\n        \"semantic_type\": \"\",\n        \"description\": \"\"\n      }\n    },\n    {\n      \"column\": \"Price\",\n      \"properties\": {\n        \"dtype\": \"string\",\n        \"num_unique_values\": 8,\n        \"samples\": [\n          \"80 000 \",\n          \"50 000 \",\n          \"40 000 \"\n        ],\n        \"semantic_type\": \"\",\n        \"description\": \"\"\n      }\n    },\n    {\n      \"column\": \"all_sqr\",\n      \"properties\": {\n        \"dtype\": \"number\",\n        \"std\": 5,\n        \"min\": 27,\n        \"max\": 46,\n        \"num_unique_values\": 7,\n        \"samples\": [\n          40,\n          38,\n          27\n        ],\n        \"semantic_type\": \"\",\n        \"description\": \"\"\n      }\n    },\n    {\n      \"column\": \"live_sqr\",\n      \"properties\": {\n        \"dtype\": \"string\",\n        \"num_unique_values\": 7,\n        \"samples\": [\n          \"20\",\n          \"22\",\n          \"15\"\n        ],\n        \"semantic_type\": \"\",\n        \"description\": \"\"\n      }\n    },\n    {\n      \"column\": \"kitch\",\n      \"properties\": {\n        \"dtype\": \"string\",\n        \"num_unique_values\": 5,\n        \"samples\": [\n          \"9 \",\n          \"8 \",\n          \"12\"\n        ],\n        \"semantic_type\": \"\",\n        \"description\": \"\"\n      }\n    },\n    {\n      \"column\": \"floor\",\n      \"properties\": {\n        \"dtype\": \"number\",\n        \"std\": 6,\n        \"min\": 1,\n        \"max\": 23,\n        \"num_unique_values\": 8,\n        \"samples\": [\n          2,\n          3,\n          23\n        ],\n        \"semantic_type\": \"\",\n        \"description\": \"\"\n      }\n    },\n    {\n      \"column\": \"year\",\n      \"properties\": {\n        \"dtype\": \"number\",\n        \"std\": 27,\n        \"min\": 1960,\n        \"max\": 2021,\n        \"num_unique_values\": 7,\n        \"samples\": [\n          2019,\n          1968,\n          1988\n        ],\n        \"semantic_type\": \"\",\n        \"description\": \"\"\n      }\n    },\n    {\n      \"column\": \"pledge\",\n      \"properties\": {\n        \"dtype\": \"string\",\n        \"num_unique_values\": 9,\n        \"samples\": [\n          \"55 000\",\n          \"80 000\",\n          \"50 000\"\n        ],\n        \"semantic_type\": \"\",\n        \"description\": \"\"\n      }\n    },\n    {\n      \"column\": \"comis\",\n      \"properties\": {\n        \"dtype\": \"string\",\n        \"num_unique_values\": 5,\n        \"samples\": [\n          \"\\u043a\\u043e\\u043c\\u0438\\u0441\\u0441\\u0438\",\n          \"30\",\n          \"25\"\n        ],\n        \"semantic_type\": \"\",\n        \"description\": \"\"\n      }\n    },\n    {\n      \"column\": \"looks\",\n      \"properties\": {\n        \"dtype\": \"string\",\n        \"num_unique_values\": 10,\n        \"samples\": [\n          \"94 \",\n          \"121\",\n          \"5 3\"\n        ],\n        \"semantic_type\": \"\",\n        \"description\": \"\"\n      }\n    },\n    {\n      \"column\": \"prepayment\",\n      \"properties\": {\n        \"dtype\": \"category\",\n        \"num_unique_values\": 1,\n        \"samples\": [\n          \"1\"\n        ],\n        \"semantic_type\": \"\",\n        \"description\": \"\"\n      }\n    }\n  ]\n}"
            }
          },
          "metadata": {},
          "execution_count": 2
        }
      ]
    },
    {
      "cell_type": "markdown",
      "source": [
        "# Подготовка данных"
      ],
      "metadata": {
        "id": "d1s4CWmBfg5H"
      }
    },
    {
      "cell_type": "code",
      "source": [
        "print(len(rooms))\n",
        "rooms = rooms.drop_duplicates()\n",
        "print(len(rooms))\n"
      ],
      "metadata": {
        "colab": {
          "base_uri": "https://localhost:8080/"
        },
        "id": "C0iV9aDtfk9W",
        "outputId": "8c52dc38-4883-465e-cb14-567574992063"
      },
      "execution_count": 3,
      "outputs": [
        {
          "output_type": "stream",
          "name": "stdout",
          "text": [
            "1903\n",
            "1458\n"
          ]
        }
      ]
    },
    {
      "cell_type": "code",
      "source": [
        "rooms['Price'] = rooms['Price'].map(lambda x: np.int64(x.split()[0]))\n",
        "rooms['pledge'] = rooms['pledge'].map(lambda x: np.int64(x.split()[0]) if x[0].isdigit() else np.nan)\n",
        "rooms.pledge = rooms.pledge.map(lambda x: np.int64(x) if not np.isnan(x) else np.nan)\n",
        "rooms['looks'] = rooms['looks'].map(lambda x: np.int64('0'.join(x.split())) if ' ' in x and 'п' not in x else np.int64(x.split()[0]))\n",
        "rooms['comis'] = rooms['comis'].map(lambda x: np.float64('0.' + str(x)) if str(x).isdigit() else np.nan)\n",
        "rooms.live_sqr = rooms.live_sqr.map(lambda x: np.int64(x) if ',' not in x else np.int64(x[:-1]))\n",
        "rooms.kitch = rooms.kitch.map(lambda x: np.int64(x) if ',' not in x else np.int64(x[:-1]))\n",
        "#rooms.pledge = rooms.pledge.astype(np.int64)\n",
        "rooms = rooms.drop('prepayment', axis=1)\n",
        "\n"
      ],
      "metadata": {
        "id": "O2o0iRBHfWtK"
      },
      "execution_count": 4,
      "outputs": []
    },
    {
      "cell_type": "code",
      "source": [
        "print(rooms.isna().sum())\n",
        "rooms.dropna(inplace=True)\n",
        "print(rooms.isna().sum())\n"
      ],
      "metadata": {
        "colab": {
          "base_uri": "https://localhost:8080/"
        },
        "id": "A1Q2tFZpfb06",
        "outputId": "b6951109-c865-4b08-a649-cbb57d67dac3"
      },
      "execution_count": 9,
      "outputs": [
        {
          "output_type": "stream",
          "name": "stdout",
          "text": [
            "Name          0\n",
            "Price         0\n",
            "all_sqr       0\n",
            "live_sqr      0\n",
            "kitch         0\n",
            "floor         0\n",
            "year          0\n",
            "pledge       73\n",
            "comis       244\n",
            "looks         0\n",
            "dtype: int64\n",
            "Name        0\n",
            "Price       0\n",
            "all_sqr     0\n",
            "live_sqr    0\n",
            "kitch       0\n",
            "floor       0\n",
            "year        0\n",
            "pledge      0\n",
            "comis       0\n",
            "looks       0\n",
            "dtype: int64\n"
          ]
        }
      ]
    },
    {
      "cell_type": "markdown",
      "source": [
        "# Разделение выборки"
      ],
      "metadata": {
        "id": "OQzpWwAtfqG5"
      }
    },
    {
      "cell_type": "code",
      "source": [
        "from sklearn.model_selection import train_test_split\n",
        "from sklearn.metrics import accuracy_score\n",
        "\n",
        "# np.set_printoptions(suppress=True)\n",
        "Y = pd.cut(rooms.Price.rank(pct=True), bins=[0, 0.33, 0.66, 1], labels=['low', 'middle', 'high'])\n",
        "X = rooms.drop(['Name', 'Price'], axis=1).values\n",
        "\n",
        "X_train, X_test, Y_train, Y_test = train_test_split(X, Y, test_size=0.2, random_state=42)\n"
      ],
      "metadata": {
        "id": "3wwfD3uEfsa1"
      },
      "execution_count": 10,
      "outputs": []
    },
    {
      "cell_type": "markdown",
      "source": [
        "# Логистическая регрессия"
      ],
      "metadata": {
        "id": "WqQgpqu3fval"
      }
    },
    {
      "cell_type": "code",
      "source": [
        "from sklearn.linear_model import LogisticRegression\n",
        "\n",
        "logr = LogisticRegression() # random_state=42, solver='lbfgs', max_iter=100)\n",
        "logr.fit(X_train, Y_train)\n",
        "logr_pred = logr.predict(X_test)\n",
        "accuracy_score(Y_test, logr_pred)\n"
      ],
      "metadata": {
        "colab": {
          "base_uri": "https://localhost:8080/"
        },
        "id": "wYt7plRbf0AJ",
        "outputId": "19e667b9-83a2-42a2-9c7d-377df9756bb7"
      },
      "execution_count": 11,
      "outputs": [
        {
          "output_type": "stream",
          "name": "stderr",
          "text": [
            "/usr/local/lib/python3.10/dist-packages/sklearn/linear_model/_logistic.py:458: ConvergenceWarning: lbfgs failed to converge (status=1):\n",
            "STOP: TOTAL NO. of ITERATIONS REACHED LIMIT.\n",
            "\n",
            "Increase the number of iterations (max_iter) or scale the data as shown in:\n",
            "    https://scikit-learn.org/stable/modules/preprocessing.html\n",
            "Please also refer to the documentation for alternative solver options:\n",
            "    https://scikit-learn.org/stable/modules/linear_model.html#logistic-regression\n",
            "  n_iter_i = _check_optimize_result(\n"
          ]
        },
        {
          "output_type": "execute_result",
          "data": {
            "text/plain": [
              "0.9135802469135802"
            ]
          },
          "metadata": {},
          "execution_count": 11
        }
      ]
    },
    {
      "cell_type": "markdown",
      "source": [
        "# Дерево решений"
      ],
      "metadata": {
        "id": "8GkVc-PVf3I_"
      }
    },
    {
      "cell_type": "code",
      "source": [
        "from sklearn.tree import DecisionTreeClassifier\n",
        "\n",
        "clf = DecisionTreeClassifier() # max_depth = 4, random_state=42)\n",
        "clf = clf.fit(X_train, Y_train)\n",
        "clf_pred = clf.predict(X_test)\n",
        "accuracy_score(Y_test, clf_pred)\n"
      ],
      "metadata": {
        "colab": {
          "base_uri": "https://localhost:8080/"
        },
        "id": "bZ-mWe1gf41k",
        "outputId": "cc9a0519-5c5a-41de-d380-4f3ca96a248f"
      },
      "execution_count": 12,
      "outputs": [
        {
          "output_type": "execute_result",
          "data": {
            "text/plain": [
              "0.9711934156378601"
            ]
          },
          "metadata": {},
          "execution_count": 12
        }
      ]
    },
    {
      "cell_type": "markdown",
      "source": [
        "# Ансамбль"
      ],
      "metadata": {
        "id": "spEiG7rsf7gZ"
      }
    },
    {
      "cell_type": "code",
      "source": [
        "from sklearn.ensemble import VotingClassifier\n",
        "\n",
        "ans = VotingClassifier(estimators=[('lr', logr), ('dtc', clf)], voting='hard')\n",
        "ans = ans.fit(X_train, Y_train)\n",
        "ans_pred = ans.predict(X_test)\n",
        "accuracy_score(Y_test, ans_pred)\n"
      ],
      "metadata": {
        "colab": {
          "base_uri": "https://localhost:8080/"
        },
        "id": "dl48I0kgf92c",
        "outputId": "12935eef-f36f-4069-a4dd-75e9dd0fb6a1"
      },
      "execution_count": 13,
      "outputs": [
        {
          "output_type": "stream",
          "name": "stderr",
          "text": [
            "/usr/local/lib/python3.10/dist-packages/sklearn/linear_model/_logistic.py:458: ConvergenceWarning: lbfgs failed to converge (status=1):\n",
            "STOP: TOTAL NO. of ITERATIONS REACHED LIMIT.\n",
            "\n",
            "Increase the number of iterations (max_iter) or scale the data as shown in:\n",
            "    https://scikit-learn.org/stable/modules/preprocessing.html\n",
            "Please also refer to the documentation for alternative solver options:\n",
            "    https://scikit-learn.org/stable/modules/linear_model.html#logistic-regression\n",
            "  n_iter_i = _check_optimize_result(\n"
          ]
        },
        {
          "output_type": "execute_result",
          "data": {
            "text/plain": [
              "0.9629629629629629"
            ]
          },
          "metadata": {},
          "execution_count": 13
        }
      ]
    },
    {
      "cell_type": "markdown",
      "source": [
        "# KNC"
      ],
      "metadata": {
        "id": "4UjnWkpCgAvy"
      }
    },
    {
      "cell_type": "code",
      "source": [
        "from sklearn.neighbors import KNeighborsClassifier\n",
        "\n",
        "knc = KNeighborsClassifier()\n",
        "knc.fit(X_train, Y_train)\n",
        "knc_pred = knc.predict(X_test)\n",
        "accuracy_score(Y_test, knc_pred)\n"
      ],
      "metadata": {
        "colab": {
          "base_uri": "https://localhost:8080/"
        },
        "id": "OzfEOeV5gCrH",
        "outputId": "d8ec2a56-6f59-4344-cc76-fb996819a9a8"
      },
      "execution_count": 14,
      "outputs": [
        {
          "output_type": "execute_result",
          "data": {
            "text/plain": [
              "0.8024691358024691"
            ]
          },
          "metadata": {},
          "execution_count": 14
        }
      ]
    },
    {
      "cell_type": "markdown",
      "source": [
        "# GridSearch"
      ],
      "metadata": {
        "id": "qR845hsFgE9Y"
      }
    },
    {
      "cell_type": "code",
      "source": [
        "from sklearn.model_selection import GridSearchCV\n",
        "params = {\n",
        "    'n_neighbors' : np.arange(1, 11),\n",
        "    'metric' : ['manhattan', 'euclidean'],\n",
        "    'weights' : ['uniform', 'distance']\n",
        "}\n",
        "\n",
        "knc_grid = GridSearchCV(knc, params, cv=5, scoring='accuracy', n_jobs=-1)\n",
        "knc_grid.fit(X_train, Y_train)\n",
        "accuracy_score(Y_test, knc_grid.best_estimator_.predict(X_test))\n"
      ],
      "metadata": {
        "colab": {
          "base_uri": "https://localhost:8080/"
        },
        "id": "3vASkVIigKEv",
        "outputId": "d4953597-090b-4c7f-bdb7-02a66126dc38"
      },
      "execution_count": 15,
      "outputs": [
        {
          "output_type": "execute_result",
          "data": {
            "text/plain": [
              "0.8518518518518519"
            ]
          },
          "metadata": {},
          "execution_count": 15
        }
      ]
    }
  ]
}